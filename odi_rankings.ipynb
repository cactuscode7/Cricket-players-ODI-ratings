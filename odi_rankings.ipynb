{
 "cells": [
  {
   "cell_type": "markdown",
   "metadata": {},
   "source": [
    "## Web Scraping men's odi rankings from 2016 to 2020"
   ]
  },
  {
   "cell_type": "markdown",
   "metadata": {},
   "source": [
    "### https://www.icc-cricket.com/rankings/mens/player-rankings/odi\n",
    "* Men's cricket player ODI Rankings for Batsmen, Bowlers and All-Rounders"
   ]
  },
  {
   "cell_type": "code",
   "execution_count": 3,
   "metadata": {},
   "outputs": [],
   "source": [
    "# Importing the libraries\n",
    "import pandas as pd\n",
    "import numpy as np\n",
    "import requests\n",
    "from bs4 import BeautifulSoup\n",
    "from datetime import date,timedelta\n",
    "import datetime\n",
    "import isort\n",
    "import json\n",
    "import pprint"
   ]
  },
  {
   "cell_type": "markdown",
   "metadata": {},
   "source": [
    "### create a list of dates using date time module\n"
   ]
  },
  {
   "cell_type": "code",
   "execution_count": 4,
   "metadata": {},
   "outputs": [],
   "source": [
    "start_date = datetime.date(2016, 1 , 1)\n",
    "number_of_days = (366+365+365+365+366)\n",
    "\n",
    "date_list = [(start_date + datetime.timedelta(days = day)).isoformat() for day in range(number_of_days)]\n",
    "#date_list"
   ]
  },
  {
   "cell_type": "markdown",
   "metadata": {},
   "source": [
    "### create a list of links for every date that way each link contains 100 players' data and the len(link_list)= len(date_list)\n"
   ]
  },
  {
   "cell_type": "code",
   "execution_count": null,
   "metadata": {},
   "outputs": [],
   "source": [
    "\n",
    "link_list=[]\n",
    "for i in date_list:\n",
    "    link_list.append\n",
    "    (\"https://cricketapi-icc.pulselive.com/icc-ratings/ranked/players/odi/bat?pageSize=100&dmsPlayerIdRequired=true&at={}\".format(i))\n",
    "    \n",
    "    \n",
    "#link_list"
   ]
  },
  {
   "cell_type": "markdown",
   "metadata": {},
   "source": [
    "## webiste doesnt allow you to grab through hard code links so create list of meta data links "
   ]
  },
  {
   "cell_type": "code",
   "execution_count": null,
   "metadata": {},
   "outputs": [],
   "source": [
    "meta_links= []\n",
    "for link in link_list: \n",
    "    response=requests.get(link)\n",
    "    html_soup = BeautifulSoup(response.text, 'html.parser')\n",
    "    meta_links.append(html_soup)"
   ]
  },
  {
   "cell_type": "code",
   "execution_count": null,
   "metadata": {},
   "outputs": [],
   "source": [
    "meta_links[1]\n",
    "#just to look at the data"
   ]
  },
  {
   "cell_type": "code",
   "execution_count": null,
   "metadata": {},
   "outputs": [],
   "source": [
    "#Convert the meta data into a json object os that we can work on meta data ie  in the nested dictionary form\n",
    "\n",
    "new_dic =json.loads(str(meta_links))\n",
    "new_dic[0]['content'][:100]\n"
   ]
  },
  {
   "cell_type": "code",
   "execution_count": null,
   "metadata": {},
   "outputs": [],
   "source": [
    "#pprint is  a pretty print library that makes the data look cleaner  and readable\n",
    "#so that we can spot the required data path\n",
    "import pprint\n",
    "pprint.pprint(new_dic[-1])"
   ]
  },
  {
   "cell_type": "markdown",
   "metadata": {},
   "source": [
    "# In the metadata grab all  the data to the possible extent,make a data frame for each day and append it to a list\n"
   ]
  },
  {
   "cell_type": "code",
   "execution_count": null,
   "metadata": {},
   "outputs": [],
   "source": [
    "#Here comes the crucial coding block although its a simple if and for loop theres a lot going under the hood\n",
    "#We are creating a huge  list of data frames\n",
    "data_frame = []\n",
    "\n",
    "for index in range(len(new_dic)):\n",
    "    players=[] \n",
    "    for i in range(len(new_dic[index]['content'])):\n",
    "        \n",
    "        players.append(new_dic[index]['content'][i]['player']['fullName'])\n",
    "\n",
    "\n",
    "    nationality= []  \n",
    "    for i in range(len(new_dic[index]['content'])):\n",
    "        \n",
    "        if('nationality' in new_dic[index]['content'][i]['player'] ):\n",
    "            nationality.append(new_dic[index]['content'][i]['player']['nationality'])\n",
    "        else:\n",
    "            nationality.append(np.nan)\n",
    "            \n",
    "            \n",
    "            \n",
    "    Best_Rating= []  \n",
    "    for i in range(len(new_dic[index]['content'])):\n",
    "        \n",
    "        if ('rating' in new_dic[index]['content'][i]['best'] ):\n",
    "            Best_Rating.append(new_dic[index]['content'][i]['best']['rating'])\n",
    "        else:\n",
    "            Best_Rating.append(np.nan )\n",
    "            \n",
    "            \n",
    "    Best_match_Against=[]\n",
    "    for i in range(len(new_dic[index]['content'])):\n",
    "        \n",
    "        if ('match' in new_dic[index]['content'][i]['best'] ):\n",
    "            Best_match_Against.append(new_dic[index]['content'][i]['best']['match']['teamA']['fullName'])\n",
    "        else:\n",
    "            Best_match_Against.append(np.nan)\n",
    "    \n",
    "    \n",
    "    Best_match_Venue=[]\n",
    "    for i in range(len(new_dic[index]['content'])):\n",
    "        \n",
    "        if ('match' in new_dic[index]['content'][i]['best']):\n",
    "            Best_match_Venue.append(new_dic[index]['content'][i]['best']['match']['venue']['fullName'])\n",
    "        else:\n",
    "            Best_match_Venue.append(np.nan)\n",
    "            \n",
    "    previousRanking=[]\n",
    "    for i in range(len(new_dic[index]['content'])):\n",
    "        \n",
    "        if ('previousRanking' in new_dic[index]['content'][i] ):\n",
    "            previousRanking.append(new_dic[index]['content'][i]['previousRanking'])\n",
    "        else:\n",
    "            previousRanking.append(np.nan)\n",
    "\n",
    "    rating=[]    \n",
    "    for i in range(len(new_dic[index]['content'])):\n",
    "          rating.append(new_dic[index]['content'][i]['rating'])\n",
    "\n",
    "\n",
    "\n",
    "\n",
    "    data_frame.append(pd.DataFrame({'Date':date_list[index],\n",
    "                                    'Player_name': players,\n",
    "                                    'Nationality': nationality,\n",
    "                                    'Rating':rating,\n",
    "                                    'Best_rating':Best_Rating,\n",
    "                                    'Previous_Ranking':previousRanking,\n",
    "                                   'Best_match_Venue':Best_match_Venue,\n",
    "                                   'Best_match_Against':Best_match_Against\n",
    "                                   }))"
   ]
  },
  {
   "cell_type": "code",
   "execution_count": null,
   "metadata": {},
   "outputs": [],
   "source": [
    "#if evreything in the previous cell goes well you can check the list  data frames here\n",
    "data_frame[0]"
   ]
  },
  {
   "cell_type": "markdown",
   "metadata": {},
   "source": [
    "now iterate through the list to make a data frame for the whole batting group"
   ]
  },
  {
   "cell_type": "code",
   "execution_count": null,
   "metadata": {},
   "outputs": [],
   "source": [
    "#Now we iterate through the list that joins each data frame till the end\n",
    "batsmen_data= data_frame[0]\n",
    "for i in range(1,len(data_frame)):\n",
    "    batsmen_data= pd.concat([batsmen_data,data_frame[i]],axis=0,ignore_index = True)\n",
    "       \n",
    "        \n",
    "batsmen_data['Type']= 'Batting'\n",
    "batsmen_data['Format']='ODI'"
   ]
  },
  {
   "cell_type": "code",
   "execution_count": null,
   "metadata": {
    "scrolled": true
   },
   "outputs": [],
   "source": [
    "batsmen_data"
   ]
  },
  {
   "cell_type": "code",
   "execution_count": null,
   "metadata": {},
   "outputs": [],
   "source": [
    "# batsmen_data= batsmen_data.drop(['Best_match_Venue','Best_match_Against'],axis=1)\n",
    "batsmen_data.to_csv('batsmen_data.csv',index=False)"
   ]
  },
  {
   "cell_type": "markdown",
   "metadata": {},
   "source": [
    "# Bowlers data"
   ]
  },
  {
   "cell_type": "code",
   "execution_count": null,
   "metadata": {},
   "outputs": [],
   "source": [
    "bowler_link_list=[]\n",
    "for i in date_list:\n",
    "    bowler_link_list.append(\"https://cricketapi-icc.pulselive.com/icc-ratings/ranked/players/odi/bowl?pageSize=100&dmsPlayerIdRequired=true&at={}\".format(i))\n",
    "    \n",
    "    \n",
    "bowler_link_list"
   ]
  },
  {
   "cell_type": "code",
   "execution_count": null,
   "metadata": {},
   "outputs": [],
   "source": [
    "bowler_meta_links= []\n",
    "for link in bowler_link_list: \n",
    "    response=requests.get(link)\n",
    "    html_soup = BeautifulSoup(response.text, 'html.parser')\n",
    "    bowler_meta_links.append(html_soup)"
   ]
  },
  {
   "cell_type": "code",
   "execution_count": null,
   "metadata": {},
   "outputs": [],
   "source": [
    "bowler_meta_links[1]"
   ]
  },
  {
   "cell_type": "code",
   "execution_count": null,
   "metadata": {},
   "outputs": [],
   "source": [
    "bowler_new_dic =json.loads(str(bowler_meta_links))\n",
    "bowler_new_dic[0]['content'][:100]               \n",
    "# just look at the data and find where the desired is data nested in."
   ]
  },
  {
   "cell_type": "code",
   "execution_count": null,
   "metadata": {},
   "outputs": [],
   "source": [
    "pprint.pprint(bowler_new_dic[-1])   #just to look at the data "
   ]
  },
  {
   "cell_type": "code",
   "execution_count": null,
   "metadata": {},
   "outputs": [],
   "source": [
    "#Here comes the crucial coding block although its a simple if and for loop theres a lot going under the hood\n",
    "#We are creating a huge  list of data frames\n",
    "bowler_data_frame_list = []\n",
    "\n",
    "for index in range(len(bowler_new_dic)):\n",
    "    players=[] \n",
    "    for i in range(len(bowler_new_dic[index]['content'])):\n",
    "        \n",
    "        players.append(bowler_new_dic[index]['content'][i]['player']['fullName'])\n",
    "\n",
    "\n",
    "    nationality= []  \n",
    "    for i in range(len(bowler_new_dic[index]['content'])):\n",
    "        \n",
    "        if('nationality' in bowler_new_dic[index]['content'][i]['player'] ):\n",
    "            nationality.append(bowler_new_dic[index]['content'][i]['player']['nationality'])\n",
    "        else:\n",
    "            nationality.append( np.nan)\n",
    "            \n",
    "\n",
    "            \n",
    "            \n",
    "    Best_Rating= []  \n",
    "    for i in range(len(bowler_new_dic[index]['content'])):\n",
    "        \n",
    "        if ('rating' in bowler_new_dic[index]['content'][i]['best'] ):\n",
    "            Best_Rating.append(bowler_new_dic[index]['content'][i]['best']['rating'])\n",
    "        else:\n",
    "            Best_Rating.append(np.nan)\n",
    "            \n",
    "            \n",
    "    Best_match_Against=[]\n",
    "    for i in range(len(bowler_new_dic[index]['content'])):\n",
    "        \n",
    "        if ('match' in bowler_new_dic[index]['content'][i]['best'] ):\n",
    "            Best_match_Against.append(bowler_new_dic[index]['content'][i]['best']['match']['teamA']['fullName'])\n",
    "        else:\n",
    "            Best_match_Against.append(np.nan)\n",
    "    \n",
    "    \n",
    "    Best_match_Venue=[]\n",
    "    for i in range(len(bowler_new_dic[index]['content'])):\n",
    "        \n",
    "        if ('match' in bowler_new_dic[index]['content'][i]['best']):\n",
    "            Best_match_Venue.append(bowler_new_dic[index]['content'][i]['best']['match']['venue']['fullName'])\n",
    "        else:\n",
    "            Best_match_Venue.append(np.nan)\n",
    "            \n",
    "    previousRanking=[]\n",
    "    for i in range(len(bowler_new_dic[index]['content'])):\n",
    "        \n",
    "        if ('previousRanking' in bowler_new_dic[index]['content'][i] ):\n",
    "            previousRanking.append(bowler_new_dic[index]['content'][i]['previousRanking'])\n",
    "        else:\n",
    "            previousRanking.append(np.nan)\n",
    "\n",
    "    rating=[]    \n",
    "    for i in range(len(bowler_new_dic[index]['content'])):\n",
    "          rating.append(bowler_new_dic[index]['content'][i]['rating'])\n",
    "\n",
    "\n",
    "\n",
    "\n",
    "    bowler_data_frame_list.append(pd.DataFrame({'Date':date_list[index],\n",
    "                                    'Player_name': players,\n",
    "                                    'Nationality': nationality,\n",
    "                                    'Rating':rating,\n",
    "                                    'Best_rating':Best_Rating,\n",
    "                                    'Previous_Ranking':previousRanking,\n",
    "                                   'Best_match_Venue':Best_match_Venue,\n",
    "                                   'Best_match_Against':Best_match_Against}))"
   ]
  },
  {
   "cell_type": "code",
   "execution_count": null,
   "metadata": {},
   "outputs": [],
   "source": [
    "bowler_data_frame_list[0]\n",
    "#just to look at the data"
   ]
  },
  {
   "cell_type": "code",
   "execution_count": null,
   "metadata": {},
   "outputs": [],
   "source": [
    "bowler_data= bowler_data_frame_list[0]\n",
    "for i in range(1,len(bowler_data_frame_list)):\n",
    "    bowler_data= pd.concat([bowler_data,bowler_data_frame_list[i]],axis=0,ignore_index = True)\n",
    "    "
   ]
  },
  {
   "cell_type": "code",
   "execution_count": null,
   "metadata": {},
   "outputs": [],
   "source": [
    "bowler_data['Type']= 'Bowling'\n",
    "bowler_data['Format']='ODI'"
   ]
  },
  {
   "cell_type": "code",
   "execution_count": null,
   "metadata": {},
   "outputs": [],
   "source": [
    "bowler_data.head()"
   ]
  },
  {
   "cell_type": "code",
   "execution_count": null,
   "metadata": {},
   "outputs": [],
   "source": [
    "bowler_data= bowler_data.drop(['Best_match_Venue','Best_match_Against'],axis=1)\n",
    "bowler_data.to_csv('bowler_data.csv',index=False)"
   ]
  },
  {
   "cell_type": "markdown",
   "metadata": {},
   "source": [
    "# All rounder data"
   ]
  },
  {
   "cell_type": "code",
   "execution_count": null,
   "metadata": {},
   "outputs": [],
   "source": [
    "Allrounder_link_list=[]\n",
    "for i in date_list:\n",
    "    Allrounder_link_list.append(\"https://cricketapi-icc.pulselive.com/icc-ratings/ranked/players/odi/allround?pageSize=10&dmsPlayerIdRequired=true&at={}\".format(i))\n",
    "    \n",
    "    \n",
    "# Allrounder_link_list"
   ]
  },
  {
   "cell_type": "code",
   "execution_count": null,
   "metadata": {},
   "outputs": [],
   "source": [
    "Allrounder_meta_links= []\n",
    "for link in Allrounder_link_list: \n",
    "    response=requests.get(link)\n",
    "    html_soup = BeautifulSoup(response.text, 'html.parser')\n",
    "    Allrounder_meta_links.append(html_soup)\n",
    "    "
   ]
  },
  {
   "cell_type": "code",
   "execution_count": null,
   "metadata": {},
   "outputs": [],
   "source": [
    "Allrounder_meta_links[1]"
   ]
  },
  {
   "cell_type": "code",
   "execution_count": null,
   "metadata": {},
   "outputs": [],
   "source": [
    "Allrounder_new_dic =json.loads(str(Allrounder_meta_links))\n",
    "Allrounder_new_dic[0]['content'][:100]"
   ]
  },
  {
   "cell_type": "code",
   "execution_count": null,
   "metadata": {},
   "outputs": [],
   "source": [
    "pprint.pprint(Allrounder_new_dic[0])"
   ]
  },
  {
   "cell_type": "code",
   "execution_count": null,
   "metadata": {},
   "outputs": [],
   "source": [
    "#Here comes the crucial coding block although its a simple if and for loop theres a lot going under the hood\n",
    "#We are creating a huge  list of data frames\n",
    "Allrounder_data_frame_list = []\n",
    "\n",
    "for index in range(len(Allrounder_new_dic)):\n",
    "    players=[] \n",
    "    for i in range(len(Allrounder_new_dic[index]['content'])):\n",
    "        \n",
    "        players.append(Allrounder_new_dic[index]['content'][i]['player']['fullName'])\n",
    "\n",
    "\n",
    "    nationality= []  \n",
    "    for i in range(len(Allrounder_new_dic[index]['content'])):\n",
    "        \n",
    "        if('nationality' in Allrounder_new_dic[index]['content'][i]['player'] ):\n",
    "            nationality.append(Allrounder_new_dic[index]['content'][i]['player']['nationality'])\n",
    "        else:\n",
    "            nationality.append(np.nan)\n",
    "            \n",
    "            \n",
    "            \n",
    "    Best_Rating= []  \n",
    "    for i in range(len(Allrounder_new_dic[index]['content'])):\n",
    "        \n",
    "        if ('rating' in Allrounder_new_dic[index]['content'][i]['best'] ):\n",
    "            Best_Rating.append(Allrounder_new_dic[index]['content'][i]['best']['rating'])\n",
    "        else:\n",
    "            Best_Rating.append(np.nan)\n",
    "            \n",
    "            \n",
    "    Best_match_Against=[]\n",
    "    for i in range(len(Allrounder_new_dic[index]['content'])):\n",
    "        \n",
    "        if ('match' in Allrounder_new_dic[index]['content'][i]['best'] ):\n",
    "            Best_match_Against.append(Allrounder_new_dic[index]['content'][i]['best']['match']['teamA']['fullName'])\n",
    "        else:\n",
    "            Best_match_Against.append(np.nan)\n",
    "    \n",
    "    \n",
    "    Best_match_Venue=[]\n",
    "    for i in range(len(Allrounder_new_dic[index]['content'])):\n",
    "        \n",
    "        if ('match' in Allrounder_new_dic[index]['content'][i]['best']):\n",
    "            Best_match_Venue.append(Allrounder_new_dic[index]['content'][i]['best']['match']['venue']['fullName'])\n",
    "        else:\n",
    "            Best_match_Venue.append(np.nan)\n",
    "            \n",
    "    previousRanking=[]\n",
    "    for i in range(len(Allrounder_new_dic[index]['content'])):\n",
    "        \n",
    "        if ('previousRanking' in Allrounder_new_dic[index]['content'][i] ):\n",
    "            previousRanking.append(Allrounder_new_dic[index]['content'][i]['previousRanking'])\n",
    "        else:\n",
    "            previousRanking.append(np.nan)\n",
    "\n",
    "    rating=[]    \n",
    "    for i in range(len(Allrounder_new_dic[index]['content'])):\n",
    "          rating.append(Allrounder_new_dic[index]['content'][i]['rating'])\n",
    "\n",
    "\n",
    "\n",
    "\n",
    "    Allrounder_data_frame_list.append(pd.DataFrame({'Date':date_list[index],\n",
    "                                    'Player_name': players,\n",
    "                                    'Nationality': nationality,\n",
    "                                    'Rating':rating,\n",
    "                                    'Best_rating':Best_Rating,\n",
    "                                    'Previous_Ranking':previousRanking,\n",
    "                                   'Best_match_Venue':Best_match_Venue,\n",
    "                                   'Best_match_Against':Best_match_Against}))"
   ]
  },
  {
   "cell_type": "code",
   "execution_count": null,
   "metadata": {},
   "outputs": [],
   "source": [
    "Allrounder_data_frame_list[0]"
   ]
  },
  {
   "cell_type": "code",
   "execution_count": null,
   "metadata": {},
   "outputs": [],
   "source": [
    "Allrounder_data= Allrounder_data_frame_list[0]\n",
    "for i in range(1,len(Allrounder_data_frame_list)):\n",
    "    Allrounder_data= pd.concat([Allrounder_data,Allrounder_data_frame_list[i]],axis=0,ignore_index = True)\n",
    "    \n",
    "    \n",
    "Allrounder_data['Type']= 'all-rounder'\n",
    "Allrounder_data['Format']='ODI'"
   ]
  },
  {
   "cell_type": "code",
   "execution_count": null,
   "metadata": {},
   "outputs": [],
   "source": [
    "Allrounder_data.head()"
   ]
  },
  {
   "cell_type": "code",
   "execution_count": null,
   "metadata": {},
   "outputs": [],
   "source": [
    "Allrounder_data=Allrounder_data.drop(['Best_match_Venue','Best_match_Against'],axis=1)\n",
    "Allrounder_data.to_csv('Allrounder_data.csv',index=False)"
   ]
  },
  {
   "cell_type": "markdown",
   "metadata": {},
   "source": [
    "# Merging all the three Types of data"
   ]
  },
  {
   "cell_type": "code",
   "execution_count": null,
   "metadata": {},
   "outputs": [],
   "source": [
    "ODI_rankings = pd.concat([batsmen_data,bowler_data,Allrounder_data],axis=0,ignore_index=True)"
   ]
  },
  {
   "cell_type": "code",
   "execution_count": null,
   "metadata": {},
   "outputs": [],
   "source": [
    "ODI_rankings"
   ]
  },
  {
   "cell_type": "markdown",
   "metadata": {},
   "source": [
    "Save the data to a csv file"
   ]
  },
  {
   "cell_type": "code",
   "execution_count": null,
   "metadata": {},
   "outputs": [],
   "source": [
    "ODI_rankings.to_csv('ODI_rankings.csv',index=False)"
   ]
  },
  {
   "cell_type": "markdown",
   "metadata": {},
   "source": [
    "# check for null values"
   ]
  },
  {
   "cell_type": "code",
   "execution_count": null,
   "metadata": {},
   "outputs": [],
   "source": [
    "ODI_rankings.isnull().sum()       "
   ]
  },
  {
   "cell_type": "markdown",
   "metadata": {},
   "source": [
    "I've handled the null values in an inefficient  way by finding them and filling them \n",
    "You can do it with some advanced automated methods"
   ]
  },
  {
   "cell_type": "code",
   "execution_count": null,
   "metadata": {},
   "outputs": [],
   "source": [
    "jason= ODI_rankings.iloc[179283:182783:100]\n",
    "values ={'Nationality':'WI'}\n",
    "jason= jason.fillna(value=values)\n",
    "\n",
    "Ish_Sodhi= ODI_rankings.iloc[361938:365438:100]\n",
    "values ={'Nationality':'NZ'}\n",
    "Ish_Sodhi= Ish_Sodhi.fillna(value=values)\n",
    "\n",
    "jason1 = ODI_rankings.iloc[361955:362155:100]\n",
    "values ={'Nationality':'WI'}\n",
    "jason1= jason1.fillna(value=values)\n",
    "\n",
    "jason2 = ODI_rankings.iloc[362154:365454:100]\n",
    "values ={'Nationality':'WI'}\n",
    "jason2= jason2.fillna(value=values)\n",
    "\n",
    "carlos = ODI_rankings.iloc[361996:362496:100]\n",
    "values ={'Nationality':'WI'}\n",
    "carlos= carlos.fillna(value=values)\n",
    "\n",
    "carlos2 = ODI_rankings.iloc[362497:365497:100]\n",
    "values ={'Nationality':'WI'}\n",
    "carlos2= carlos2.fillna(value=values)\n",
    "\n",
    "roston = ODI_rankings.iloc[361998:362498:100]\n",
    "values ={'Nationality':'WI'}\n",
    "roston= roston.fillna(value=values)\n",
    "\n",
    "roston1 = ODI_rankings.iloc[362499:365499:100]\n",
    "values ={'Nationality':'WI'}\n",
    "roston1= roston1.fillna(value=values)"
   ]
  },
  {
   "cell_type": "code",
   "execution_count": null,
   "metadata": {},
   "outputs": [],
   "source": [
    "ODI_rankings.iloc[179283:182783:100]=jason\n",
    "ODI_rankings.iloc[361938:365438:100]=Ish_Sodhi\n",
    "ODI_rankings.iloc[361955:362155:100]= jason1\n",
    "ODI_rankings.iloc[362154:365454:100]= jason2\n",
    "ODI_rankings.iloc[361996:362496:100]=carlos\n",
    "ODI_rankings.iloc[362497:365497:100]=carlos2\n",
    "ODI_rankings.iloc[361998:362498:100]=roston\n",
    "ODI_rankings.iloc[362499:365499:100]=roston1"
   ]
  },
  {
   "cell_type": "code",
   "execution_count": null,
   "metadata": {},
   "outputs": [],
   "source": [
    "ODI_rankings[ODI_rankings.isnull().T.any()]"
   ]
  },
  {
   "cell_type": "markdown",
   "metadata": {},
   "source": [
    "# Drop non useful columns for dashboard and visulaizations"
   ]
  },
  {
   "cell_type": "code",
   "execution_count": null,
   "metadata": {},
   "outputs": [],
   "source": [
    "odi_ratings=ODI_rankings.dropna(axis='columns',how='any')"
   ]
  },
  {
   "cell_type": "code",
   "execution_count": null,
   "metadata": {},
   "outputs": [],
   "source": [
    "odi_ratings.isnull().sum()"
   ]
  },
  {
   "cell_type": "code",
   "execution_count": null,
   "metadata": {},
   "outputs": [],
   "source": [
    "odi_ratings.to_csv('odi_ratings.csv',index=False)        \n",
    "#Saved to a new csv "
   ]
  },
  {
   "cell_type": "code",
   "execution_count": null,
   "metadata": {
    "scrolled": true
   },
   "outputs": [],
   "source": [
    "odi_ratings"
   ]
  },
  {
   "cell_type": "markdown",
   "metadata": {},
   "source": [
    "# Data acquired  🔥"
   ]
  },
  {
   "cell_type": "code",
   "execution_count": null,
   "metadata": {},
   "outputs": [],
   "source": []
  }
 ],
 "metadata": {
  "kernelspec": {
   "display_name": "Python 3",
   "language": "python",
   "name": "python3"
  },
  "language_info": {
   "codemirror_mode": {
    "name": "ipython",
    "version": 3
   },
   "file_extension": ".py",
   "mimetype": "text/x-python",
   "name": "python",
   "nbconvert_exporter": "python",
   "pygments_lexer": "ipython3",
   "version": "3.8.3"
  }
 },
 "nbformat": 4,
 "nbformat_minor": 2
}
